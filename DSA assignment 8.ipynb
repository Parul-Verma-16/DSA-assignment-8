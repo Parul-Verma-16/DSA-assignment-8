{
 "cells": [
  {
   "cell_type": "markdown",
   "id": "ea85f9b9",
   "metadata": {},
   "source": [
    "## **Q1.** Given two strings s1 and s2, return *the lowest **ASCII** sum of deleted characters to make two strings equal*."
   ]
  },
  {
   "cell_type": "code",
   "execution_count": 1,
   "id": "50e5de27",
   "metadata": {},
   "outputs": [
    {
     "name": "stdout",
     "output_type": "stream",
     "text": [
      "231\n"
     ]
    }
   ],
   "source": [
    "def minimumDeleteSum(s1, s2):\n",
    "    m, n = len(s1), len(s2)\n",
    "\n",
    "    # Create a 2D table to store the minimum ASCII sum\n",
    "    dp = [[0] * (n+1) for _ in range(m+1)]\n",
    "\n",
    "    # Fill in the table\n",
    "    for i in range(1, m+1):\n",
    "        dp[i][0] = dp[i-1][0] + ord(s1[i-1])\n",
    "\n",
    "    for j in range(1, n+1):\n",
    "        dp[0][j] = dp[0][j-1] + ord(s2[j-1])\n",
    "\n",
    "    for i in range(1, m+1):\n",
    "        for j in range(1, n+1):\n",
    "            if s1[i-1] == s2[j-1]:\n",
    "                dp[i][j] = dp[i-1][j-1]\n",
    "            else:\n",
    "                dp[i][j] = min(dp[i-1][j] + ord(s1[i-1]), dp[i][j-1] + ord(s2[j-1]))\n",
    "\n",
    "    return dp[m][n]\n",
    "\n",
    "# Test the function\n",
    "s1 = \"sea\"\n",
    "s2 = \"eat\"\n",
    "result = minimumDeleteSum(s1, s2)\n",
    "print(result)"
   ]
  },
  {
   "cell_type": "markdown",
   "id": "888dd5e3",
   "metadata": {},
   "source": [
    "## **Q2.** Given a string s containing only three types of characters: '(', ')' and '*', return true *if* s *is **valid***. The following rules define a **valid** string:\n",
    "\n",
    "## - Any left parenthesis '(' must have a corresponding right parenthesis ')'.\n",
    "## - Any right parenthesis ')' must have a corresponding left parenthesis '('.\n",
    "## - Left parenthesis '(' must go before the corresponding right parenthesis ')'.\n",
    "## - '*' could be treated as a single right parenthesis ')' or a single left parenthesis '(' or an empty string \"\"."
   ]
  },
  {
   "cell_type": "code",
   "execution_count": 2,
   "id": "16be7993",
   "metadata": {},
   "outputs": [
    {
     "name": "stdout",
     "output_type": "stream",
     "text": [
      "True\n"
     ]
    }
   ],
   "source": [
    "def isValid(s):\n",
    "    stack = []\n",
    "\n",
    "    for char in s:\n",
    "        if char == '(' or char == '*':\n",
    "            stack.append(char)\n",
    "        elif char == ')':\n",
    "            if stack and stack[-1] == '(':\n",
    "                stack.pop()\n",
    "            elif stack and stack[-1] == '*':\n",
    "                stack.pop()\n",
    "            else:\n",
    "                return False\n",
    "\n",
    "    count = 0\n",
    "    while stack:\n",
    "        if stack.pop() == '(':\n",
    "            count += 1\n",
    "        else:\n",
    "            count -= 1\n",
    "\n",
    "        if count < 0:\n",
    "            return False\n",
    "\n",
    "    return True\n",
    "\n",
    "# Test the function\n",
    "s = \"()\"\n",
    "result = isValid(s)\n",
    "print(result)"
   ]
  },
  {
   "cell_type": "markdown",
   "id": "29d4c821",
   "metadata": {},
   "source": [
    "## **Q3.** Given two strings word1 and word2, return *the minimum number of **steps** required to make* word1 *and* word2 *the same*. In one **step**, you can delete exactly one character in either string."
   ]
  },
  {
   "cell_type": "code",
   "execution_count": 3,
   "id": "58d0ad73",
   "metadata": {},
   "outputs": [
    {
     "name": "stdout",
     "output_type": "stream",
     "text": [
      "2\n"
     ]
    }
   ],
   "source": [
    "def minSteps(word1, word2):\n",
    "    m = len(word1)\n",
    "    n = len(word2)\n",
    "\n",
    "    # Create a 2D array to store the lengths of LCS\n",
    "    dp = [[0] * (n + 1) for _ in range(m + 1)]\n",
    "\n",
    "    # Fill the dp array using dynamic programming\n",
    "    for i in range(1, m + 1):\n",
    "        for j in range(1, n + 1):\n",
    "            if word1[i - 1] == word2[j - 1]:\n",
    "                dp[i][j] = dp[i - 1][j - 1] + 1\n",
    "            else:\n",
    "                dp[i][j] = max(dp[i - 1][j], dp[i][j - 1])\n",
    "\n",
    "    # The minimum number of steps is the difference between the total length\n",
    "    # of both strings and twice the length of the LCS\n",
    "    return m + n - 2 * dp[m][n]\n",
    "\n",
    "# Test the function\n",
    "word1 = \"sea\"\n",
    "word2 = \"eat\"\n",
    "result = minSteps(word1, word2)\n",
    "print(result)"
   ]
  },
  {
   "cell_type": "markdown",
   "id": "40e7d975",
   "metadata": {},
   "source": [
    "## **Q4.** You need to construct a binary tree from a string consisting of parenthesis and integers. The whole input represents a binary tree. It contains an integer followed by zero, one or two pairs of parenthesis. The integer represents the root's value and a pair of parenthesis contains a child binary tree with the same structure. You always start to construct the **left** child node of the parent first if it exists."
   ]
  },
  {
   "cell_type": "code",
   "execution_count": 4,
   "id": "28df3873",
   "metadata": {},
   "outputs": [
    {
     "name": "stdout",
     "output_type": "stream",
     "text": [
      "4\n",
      "2\n",
      "3\n",
      "1\n",
      "6\n",
      "5\n"
     ]
    }
   ],
   "source": [
    "class TreeNode:\n",
    "    def __init__(self, val=0, left=None, right=None):\n",
    "        self.val = val\n",
    "        self.left = left\n",
    "        self.right = right\n",
    "\n",
    "def str2tree(s):\n",
    "    if not s:\n",
    "        return None\n",
    "\n",
    "    # Find the index of the first '(' character\n",
    "    idx = s.find('(')\n",
    "\n",
    "    if idx == -1:\n",
    "        # No '(' character found, so the entire string is the root value\n",
    "        return TreeNode(int(s))\n",
    "\n",
    "    # Create the root node with the root value\n",
    "    root = TreeNode(int(s[:idx]))\n",
    "\n",
    "    # Count the number of opening and closing parentheses\n",
    "    count = 0\n",
    "    start = idx\n",
    "\n",
    "    # Find the index of the matching ')' character\n",
    "    for i in range(start, len(s)):\n",
    "        if s[i] == '(':\n",
    "            count += 1\n",
    "        elif s[i] == ')':\n",
    "            count -= 1\n",
    "\n",
    "        if count == 0:\n",
    "            # Recursive calls to construct the left and right subtrees\n",
    "            if start == idx:\n",
    "                # Left child exists\n",
    "                root.left = str2tree(s[start + 1:i])\n",
    "                start = i + 1\n",
    "            else:\n",
    "                # Right child exists\n",
    "                root.right = str2tree(s[start + 1:i])\n",
    "\n",
    "    return root\n",
    "\n",
    "# Test the function\n",
    "s = \"4(2(3)(1))(6(5))\"\n",
    "root = str2tree(s)\n",
    "\n",
    "# Function to print the binary tree\n",
    "def printTree(root):\n",
    "    if not root:\n",
    "        return\n",
    "\n",
    "    print(root.val)\n",
    "    printTree(root.left)\n",
    "    printTree(root.right)\n",
    "\n",
    "# Print the binary tree\n",
    "printTree(root)"
   ]
  },
  {
   "cell_type": "markdown",
   "id": "c3a3ab0d",
   "metadata": {},
   "source": [
    "## **Q5.** Given an array of characters chars, compress it using the following algorithm: Begin with an empty string s. For each group of **consecutive repeating characters** in chars:\n",
    "\n",
    "## - If the group's length is 1, append the character to s.\n",
    "## - Otherwise, append the character followed by the group's length.\n",
    "\n",
    "## The compressed string s **should not be returned separately**, but instead, be stored **in the input character array chars**. Note that group lengths that are 10 or longer will be split into multiple characters in chars. After you are done **modifying the input array,** return *the new length of the array*. You must write an algorithm that uses only constant extra space."
   ]
  },
  {
   "cell_type": "code",
   "execution_count": 5,
   "id": "ee79f851",
   "metadata": {},
   "outputs": [
    {
     "name": "stdout",
     "output_type": "stream",
     "text": [
      "['a', '2', 'b', '2', 'c', '3']\n"
     ]
    }
   ],
   "source": [
    "def compress(chars):\n",
    "    # Initialize pointers and count variables\n",
    "    i = 0  # Pointer to the current position in the modified array\n",
    "    j = 0  # Pointer to the current position in the original array\n",
    "    count = 0  # Count of consecutive occurrences of a character\n",
    "\n",
    "    # Iterate through the array\n",
    "    while j < len(chars):\n",
    "        # Increment the count for consecutive occurrences of the same character\n",
    "        count += 1\n",
    "\n",
    "        # Check if the next character is different or we have reached the end of the array\n",
    "        if j + 1 == len(chars) or chars[j] != chars[j + 1]:\n",
    "            # Add the current character to the modified array\n",
    "            chars[i] = chars[j]\n",
    "            i += 1\n",
    "\n",
    "            # Check if the count is greater than 1\n",
    "            if count > 1:\n",
    "                # Convert the count to a string and add each digit to the modified array\n",
    "                count_str = str(count)\n",
    "                for digit in count_str:\n",
    "                    chars[i] = digit\n",
    "                    i += 1\n",
    "\n",
    "            # Reset the count for the next character\n",
    "            count = 0\n",
    "\n",
    "        # Move to the next character in the original array\n",
    "        j += 1\n",
    "\n",
    "    # Return the new length of the modified array\n",
    "    return i\n",
    "\n",
    "# Test the function\n",
    "chars = [\"a\",\"a\",\"b\",\"b\",\"c\",\"c\",\"c\"]\n",
    "new_length = compress(chars)\n",
    "\n",
    "# Print the modified array\n",
    "print(chars[:new_length])"
   ]
  },
  {
   "cell_type": "markdown",
   "id": "1c6a6f46",
   "metadata": {},
   "source": [
    "## **Q6.** Given two strings s and p, return *an array of all the start indices of* p*'s anagrams in* s. You may return the answer in **any order**. An **Anagram** is a word or phrase formed by rearranging the letters of a different word or phrase, typically using all the original letters exactly once."
   ]
  },
  {
   "cell_type": "code",
   "execution_count": 6,
   "id": "e5fc24ff",
   "metadata": {},
   "outputs": [
    {
     "name": "stdout",
     "output_type": "stream",
     "text": [
      "[0, 6]\n"
     ]
    }
   ],
   "source": [
    "from collections import Counter\n",
    "\n",
    "def findAnagrams(s, p):\n",
    "    result = []\n",
    "    p_count = Counter(p)\n",
    "    s_count = Counter(s[:len(p)])  # Initialize the frequency counter for the first window\n",
    "\n",
    "    # Iterate through the sliding window\n",
    "    for i in range(len(s) - len(p) + 1):\n",
    "        # Check if the frequency counters are equal\n",
    "        if p_count == s_count:\n",
    "            result.append(i)\n",
    "\n",
    "        # Update the frequency counter by removing the leftmost character\n",
    "        s_count[s[i]] -= 1\n",
    "        if s_count[s[i]] == 0:\n",
    "            del s_count[s[i]]\n",
    "\n",
    "        # Update the frequency counter by adding the rightmost character\n",
    "        if i + len(p) < len(s):\n",
    "            s_count[s[i + len(p)]] += 1\n",
    "\n",
    "    return result\n",
    "\n",
    "# Test the function\n",
    "s = \"cbaebabacd\"\n",
    "p = \"abc\"\n",
    "indices = findAnagrams(s, p)\n",
    "print(indices)"
   ]
  },
  {
   "cell_type": "markdown",
   "id": "ca4cf70a",
   "metadata": {},
   "source": [
    "##  **Q7.** Given an encoded string, return its decoded string. The encoding rule is: k[encoded_string], where the encoded_string inside the square brackets is being repeated exactly k times. Note that k is guaranteed to be a positive integer. You may assume that the input string is always valid; there are no extra white spaces, square brackets are well-formed, etc. Furthermore, you may assume that the original data does not contain any digits and that digits are only for those repeat numbers, k. For example, there will not be input like 3a or 2[4]. The test cases are generated so that the length of the output will never exceed 105."
   ]
  },
  {
   "cell_type": "code",
   "execution_count": 7,
   "id": "0a5f96f1",
   "metadata": {},
   "outputs": [
    {
     "name": "stdout",
     "output_type": "stream",
     "text": [
      "aaabcbc\n"
     ]
    }
   ],
   "source": [
    "def decodeString(s):\n",
    "    stack = []\n",
    "    curr_str = \"\"\n",
    "    curr_num = \"\"\n",
    "\n",
    "    for char in s:\n",
    "        if char.isalpha():\n",
    "            curr_str += char\n",
    "        elif char.isdigit():\n",
    "            curr_num += char\n",
    "        elif char == \"[\":\n",
    "            stack.append((curr_str, int(curr_num)))\n",
    "            curr_str = \"\"\n",
    "            curr_num = \"\"\n",
    "        elif char == \"]\":\n",
    "            prev_str, k = stack.pop()\n",
    "            curr_str = prev_str + curr_str * k\n",
    "\n",
    "    return curr_str\n",
    "\n",
    "# Test the function\n",
    "s = \"3[a]2[bc]\"\n",
    "decoded_str = decodeString(s)\n",
    "print(decoded_str)"
   ]
  },
  {
   "cell_type": "markdown",
   "id": "3d806969",
   "metadata": {},
   "source": [
    "##  **Q8.** Given two strings s and goal, return true *if you can swap two letters in* s *so the result is equal to* goal*, otherwise, return* false*.* Swapping letters is defined as taking two indices i and j (0-indexed) such that i != j and swapping the characters at s[i] and s[j].\n",
    "\n",
    "## - For example, swapping at indices 0 and 2 in \"abcd\" results in \"cbad\"."
   ]
  },
  {
   "cell_type": "code",
   "execution_count": 8,
   "id": "ffba6979",
   "metadata": {},
   "outputs": [
    {
     "name": "stdout",
     "output_type": "stream",
     "text": [
      "True\n"
     ]
    }
   ],
   "source": [
    "def buddyStrings(s, goal):\n",
    "    if len(s) != len(goal) or len(s) < 2:\n",
    "        return False\n",
    "\n",
    "    if s == goal:\n",
    "        # Check if there are at least two identical characters in s\n",
    "        char_count = {}\n",
    "        for char in s:\n",
    "            if char in char_count:\n",
    "                return True\n",
    "            char_count[char] = 1\n",
    "        return False\n",
    "\n",
    "    diff_count = 0\n",
    "    diff_indices = []\n",
    "    for i in range(len(s)):\n",
    "        if s[i] != goal[i]:\n",
    "            diff_count += 1\n",
    "            diff_indices.append(i)\n",
    "\n",
    "        if diff_count > 2:\n",
    "            return False\n",
    "\n",
    "    return diff_count == 2 and s[diff_indices[0]] == goal[diff_indices[1]] and s[diff_indices[1]] == goal[diff_indices[0]]\n",
    "\n",
    "\n",
    "# Test the function\n",
    "s = \"ab\"\n",
    "goal = \"ba\"\n",
    "print(buddyStrings(s, goal))"
   ]
  }
 ],
 "metadata": {
  "kernelspec": {
   "display_name": "Python 3 (ipykernel)",
   "language": "python",
   "name": "python3"
  },
  "language_info": {
   "codemirror_mode": {
    "name": "ipython",
    "version": 3
   },
   "file_extension": ".py",
   "mimetype": "text/x-python",
   "name": "python",
   "nbconvert_exporter": "python",
   "pygments_lexer": "ipython3",
   "version": "3.9.13"
  }
 },
 "nbformat": 4,
 "nbformat_minor": 5
}
